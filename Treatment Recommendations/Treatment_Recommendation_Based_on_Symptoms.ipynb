{
 "cells": [
  {
   "cell_type": "markdown",
   "id": "546a325d",
   "metadata": {},
   "source": [
    "# Dependencies"
   ]
  },
  {
   "cell_type": "code",
   "execution_count": 119,
   "id": "428bade4",
   "metadata": {},
   "outputs": [],
   "source": [
    "import pandas as pd #for data anaysis\n",
    "import json         #for handling json data\n",
    "import textdistance #package for checking similarity between strings"
   ]
  },
  {
   "cell_type": "markdown",
   "id": "12dc76b9",
   "metadata": {},
   "source": [
    "# Reading the json data and Storing it in a variable"
   ]
  },
  {
   "cell_type": "code",
   "execution_count": 11,
   "id": "97e22d69",
   "metadata": {},
   "outputs": [],
   "source": [
    "with open('New Text Document.txt') as f:\n",
    "    treatment_symptoms_data = json.load(f)"
   ]
  },
  {
   "cell_type": "markdown",
   "id": "69a0bc4d",
   "metadata": {},
   "source": [
    "# Creating the DataFrame of Treatments and Symptoms"
   ]
  },
  {
   "cell_type": "code",
   "execution_count": 12,
   "id": "db995b55",
   "metadata": {},
   "outputs": [],
   "source": [
    "df=pd.DataFrame(treatment_symptoms_data)"
   ]
  },
  {
   "cell_type": "markdown",
   "id": "9b19b3aa",
   "metadata": {},
   "source": [
    "### Lowar casing the symptoms name"
   ]
  },
  {
   "cell_type": "code",
   "execution_count": 84,
   "id": "a3edaaba",
   "metadata": {},
   "outputs": [],
   "source": [
    "df['name']=df['name'].apply(lambda x:x.lower())"
   ]
  },
  {
   "cell_type": "code",
   "execution_count": 85,
   "id": "f222f20c",
   "metadata": {},
   "outputs": [],
   "source": [
    "symptoms=df['name'].to_list()  #creating list of symptoms"
   ]
  },
  {
   "cell_type": "markdown",
   "id": "e069b7e9",
   "metadata": {},
   "source": [
    "# Search Engine"
   ]
  },
  {
   "cell_type": "code",
   "execution_count": 116,
   "id": "2669c41c",
   "metadata": {},
   "outputs": [],
   "source": [
    "def get_Treatment(symptm):\n",
    "    symptm=symptm.lower()\n",
    "    for i in symptoms:\n",
    "        if i==symptm or textdistance.levenshtein.normalized_similarity(i,symptm)>=0.8:\n",
    "            treatment=''.join(df[df['name']==i]['lifestyle_treatment'])\n",
    "            print(\"\")\n",
    "            print('Treatments')\n",
    "            treatments=treatment.split(\".\")\n",
    "            for treat in treatments[0:-1]:\n",
    "                print(\"->\"+\" \"+ treat.strip())"
   ]
  },
  {
   "cell_type": "markdown",
   "id": "dca29752",
   "metadata": {},
   "source": [
    "# Taking Input"
   ]
  },
  {
   "cell_type": "code",
   "execution_count": 120,
   "id": "c358289d",
   "metadata": {},
   "outputs": [
    {
     "name": "stdout",
     "output_type": "stream",
     "text": [
      "Enter Symptom. Please Enter Same Name as in Datadiarrhea\n",
      "\n",
      "Treatments\n",
      "-> Avoid foods that are milk-based, greasy, high-fiber, or very sweet because these are likely to aggravate diarrhea\n",
      "-> Avoid caffeine and alcohol\n",
      "-> Avoid high sugar drinks, like apple juice, grape juice, and soda, which can pull water into the intestine and make the diarrhea persist\n",
      "-> Drink a lot of liquids that contain water, salt, and sugar\n",
      "-> Fruit juice or fizzy drinks should be avoided as they can make diarrhoea worse\n",
      "-> Oral rehydration solution (ORS) to prevent dehydration if you're at risk\n",
      "-> Eat solid food as soon as you feel able to\n",
      "-> Eat small, light meals and avoid fatty or spicy foods\n"
     ]
    }
   ],
   "source": [
    "symptom=str(input(\"Enter Symptom\"))\n",
    "get_Treatment(symptom.strip())"
   ]
  },
  {
   "cell_type": "code",
   "execution_count": 104,
   "id": "a2589bdf",
   "metadata": {},
   "outputs": [],
   "source": []
  },
  {
   "cell_type": "code",
   "execution_count": null,
   "id": "464f9d22",
   "metadata": {},
   "outputs": [],
   "source": []
  }
 ],
 "metadata": {
  "kernelspec": {
   "display_name": "Python 3 (ipykernel)",
   "language": "python",
   "name": "python3"
  },
  "language_info": {
   "codemirror_mode": {
    "name": "ipython",
    "version": 3
   },
   "file_extension": ".py",
   "mimetype": "text/x-python",
   "name": "python",
   "nbconvert_exporter": "python",
   "pygments_lexer": "ipython3",
   "version": "3.10.5"
  }
 },
 "nbformat": 4,
 "nbformat_minor": 5
}
