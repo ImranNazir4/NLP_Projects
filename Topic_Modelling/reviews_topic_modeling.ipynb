{
 "cells": [
  {
   "cell_type": "markdown",
   "id": "4f6e7ea7",
   "metadata": {},
   "source": [
    "# Importing Dependencies"
   ]
  },
  {
   "cell_type": "code",
   "execution_count": 1,
   "id": "f8688714",
   "metadata": {},
   "outputs": [
    {
     "ename": "ModuleNotFoundError",
     "evalue": "No module named 'tomotopy'",
     "output_type": "error",
     "traceback": [
      "\u001b[1;31m---------------------------------------------------------------------------\u001b[0m",
      "\u001b[1;31mModuleNotFoundError\u001b[0m                       Traceback (most recent call last)",
      "Input \u001b[1;32mIn [1]\u001b[0m, in \u001b[0;36m<cell line: 2>\u001b[1;34m()\u001b[0m\n\u001b[0;32m      1\u001b[0m \u001b[38;5;66;03m#https://bab2min.github.io/tomotopy/v0.12.2/en/\u001b[39;00m\n\u001b[1;32m----> 2\u001b[0m \u001b[38;5;28;01mimport\u001b[39;00m \u001b[38;5;21;01mtomotopy\u001b[39;00m \u001b[38;5;28;01mas\u001b[39;00m \u001b[38;5;21;01mtp\u001b[39;00m     \u001b[38;5;66;03m#package for topic modeling\u001b[39;00m\n\u001b[0;32m      3\u001b[0m \u001b[38;5;28;01mfrom\u001b[39;00m \u001b[38;5;21;01mnltk\u001b[39;00m\u001b[38;5;21;01m.\u001b[39;00m\u001b[38;5;21;01mcorpus\u001b[39;00m \u001b[38;5;28;01mimport\u001b[39;00m stopwords  \u001b[38;5;66;03m#importing dependencies  for removing stopwords\u001b[39;00m\n\u001b[0;32m      4\u001b[0m \u001b[38;5;28;01mimport\u001b[39;00m \u001b[38;5;21;01mre\u001b[39;00m  \u001b[38;5;66;03m#for regular expressions\u001b[39;00m\n",
      "\u001b[1;31mModuleNotFoundError\u001b[0m: No module named 'tomotopy'"
     ]
    }
   ],
   "source": [
    "#https://bab2min.github.io/tomotopy/v0.12.2/en/\n",
    "import tomotopy as tp     #package for topic modeling\n",
    "from nltk.corpus import stopwords  #importing dependencies  for removing stopwords\n",
    "import re  #for regular expressions\n",
    "import pandas as pd  #for data analysis"
   ]
  },
  {
   "cell_type": "markdown",
   "id": "8dc965e8",
   "metadata": {},
   "source": [
    "# Reading the Dataset"
   ]
  },
  {
   "cell_type": "code",
   "execution_count": 352,
   "id": "62925923",
   "metadata": {},
   "outputs": [],
   "source": [
    "df=pd.read_csv('hotelreviews.csv')"
   ]
  },
  {
   "cell_type": "markdown",
   "id": "95d79d25",
   "metadata": {},
   "source": [
    "# Assigning the Name to Nameless attribute of the Dataset"
   ]
  },
  {
   "cell_type": "code",
   "execution_count": 353,
   "id": "071f4a55",
   "metadata": {},
   "outputs": [],
   "source": [
    "df.columns=[\"Review Text\"]"
   ]
  },
  {
   "cell_type": "markdown",
   "id": "4460e362",
   "metadata": {},
   "source": [
    "### Shape of The Dataset"
   ]
  },
  {
   "cell_type": "code",
   "execution_count": 354,
   "id": "172857e4",
   "metadata": {},
   "outputs": [
    {
     "data": {
      "text/plain": [
       "(306282, 1)"
      ]
     },
     "execution_count": 354,
     "metadata": {},
     "output_type": "execute_result"
    }
   ],
   "source": [
    "df.shape"
   ]
  },
  {
   "cell_type": "markdown",
   "id": "5058e50c",
   "metadata": {},
   "source": [
    "# Importing Package for Text Cleaning"
   ]
  },
  {
   "cell_type": "code",
   "execution_count": 355,
   "id": "393ec931",
   "metadata": {},
   "outputs": [],
   "source": [
    "import neattext as nt"
   ]
  },
  {
   "cell_type": "markdown",
   "id": "1b9aafb9",
   "metadata": {},
   "source": [
    "### Removing Stopswords"
   ]
  },
  {
   "cell_type": "code",
   "execution_count": 356,
   "id": "aca95523",
   "metadata": {},
   "outputs": [],
   "source": [
    "df['Cleaned Text']=df['Review Text'].apply(lambda x:nt.remove_stopwords(x))"
   ]
  },
  {
   "cell_type": "markdown",
   "id": "3154210c",
   "metadata": {},
   "source": [
    "### Removing Numbers"
   ]
  },
  {
   "cell_type": "code",
   "execution_count": 357,
   "id": "04adf6b2",
   "metadata": {},
   "outputs": [],
   "source": [
    "df['Cleaned Text']=df['Review Text'].apply(lambda x:nt.remove_numbers(x))"
   ]
  },
  {
   "cell_type": "markdown",
   "id": "850ce71d",
   "metadata": {},
   "source": [
    "### Removing Special Characters"
   ]
  },
  {
   "cell_type": "code",
   "execution_count": 359,
   "id": "e05cfd2e",
   "metadata": {},
   "outputs": [],
   "source": [
    "df['Cleaned Text']=df['Review Text'].apply(lambda x:nt.remove_special_characters(x))"
   ]
  },
  {
   "cell_type": "markdown",
   "id": "a80a46ab",
   "metadata": {},
   "source": [
    "### Removing Emojis"
   ]
  },
  {
   "cell_type": "code",
   "execution_count": 360,
   "id": "e7438ca7",
   "metadata": {},
   "outputs": [],
   "source": [
    "df['Cleaned Text']=df['Review Text'].apply(lambda x:nt.remove_emojis(x))"
   ]
  },
  {
   "cell_type": "markdown",
   "id": "1ba6d3b3",
   "metadata": {},
   "source": [
    "## Getting Text Matrics"
   ]
  },
  {
   "cell_type": "code",
   "execution_count": 361,
   "id": "74bf88b4",
   "metadata": {},
   "outputs": [],
   "source": [
    "mytext=' '.join(df['Cleaned Text'])"
   ]
  },
  {
   "cell_type": "code",
   "execution_count": 362,
   "id": "f985edbe",
   "metadata": {},
   "outputs": [],
   "source": [
    "docx = nt.TextFrame(text=mytext)\n",
    "docx.describe()"
   ]
  },
  {
   "cell_type": "markdown",
   "id": "d2171333",
   "metadata": {},
   "source": [
    "# Getting Words with Lenght Greater than 3"
   ]
  },
  {
   "cell_type": "code",
   "execution_count": 363,
   "id": "26c7dd3f",
   "metadata": {},
   "outputs": [],
   "source": [
    "def length_fixing(text):\n",
    "    text=text.split()\n",
    "    text2 = ' '.join([w for w in text if ( not w.isdigit() and  ( not w.isdigit() and len(w)>3))]) \n",
    "    return text2.lower()"
   ]
  },
  {
   "cell_type": "code",
   "execution_count": 364,
   "id": "4725994e",
   "metadata": {},
   "outputs": [],
   "source": [
    "df['Cleaned Text']=df['Cleaned Text'].apply(lambda x:length_fixing(x))"
   ]
  },
  {
   "cell_type": "markdown",
   "id": "707a3866",
   "metadata": {},
   "source": [
    "## Cleaned Data"
   ]
  },
  {
   "cell_type": "code",
   "execution_count": 365,
   "id": "2f6e8fa9",
   "metadata": {},
   "outputs": [
    {
     "data": {
      "text/plain": [
       "0         real complaints hotel great great location sur...\n",
       "1         rooms nice elderly difficult most rooms story ...\n",
       "2         room dirty afraid walk barefoot floor which lo...\n",
       "3         when booked with your company line showed pict...\n",
       "4         backyard hotel total mess shouldn happen hotel...\n",
       "                                ...                        \n",
       "306277    they other fotos cinde rooms booking location ...\n",
       "306278    wifi location coffee room rather cheap away fr...\n",
       "306279    breakfast excelent lots fress fruits hotel goo...\n",
       "306280    free parking room another building need exit b...\n",
       "306281    rooms enormous really comfortable believe that...\n",
       "Name: Cleaned Text, Length: 306282, dtype: object"
      ]
     },
     "execution_count": 365,
     "metadata": {},
     "output_type": "execute_result"
    }
   ],
   "source": [
    "df['Cleaned Text']"
   ]
  },
  {
   "cell_type": "code",
   "execution_count": null,
   "id": "3cb9d779",
   "metadata": {},
   "outputs": [],
   "source": [
    "# Dataset is very huge , so for testign purpose with get 10 records of our original data, you can change this number"
   ]
  },
  {
   "cell_type": "code",
   "execution_count": 595,
   "id": "e0037dda",
   "metadata": {},
   "outputs": [],
   "source": [
    "df1=df.head(10)"
   ]
  },
  {
   "cell_type": "markdown",
   "id": "c783bf0f",
   "metadata": {},
   "source": [
    "# Model Creation + Trainging + Topic Extraction"
   ]
  },
  {
   "cell_type": "code",
   "execution_count": 601,
   "id": "93dcff05",
   "metadata": {},
   "outputs": [],
   "source": [
    "topic_list=[]\n",
    "df_list=[]\n",
    "l=[]\n",
    "def get_topic(text):\n",
    "    f = open(\"temp.txt\", \"w\")   #reading the temp file\n",
    "    f.write(text) #writing the review in the file\n",
    "    f.close()\n",
    "    mdl = tp.LDAModel(k=1)       #model creation, k=number_of_topic(for which you want to train your model)\n",
    "    for line in open('temp.txt'):\n",
    "        mdl.add_doc(line.strip().split())   #adding corpus to model\n",
    "    for i in range(0, 100, 10):\n",
    "        mdl.train(10)    #train our model\n",
    "    for k in range(mdl.k):\n",
    "        topics=mdl.get_topic_words(k, top_n=3)  #getting desired number of topics from trained model K=number_of_topics\n",
    "#         print(topics)\n",
    "        return topics\n",
    "    \n",
    "            \n",
    "    \n",
    "    \n"
   ]
  },
  {
   "cell_type": "code",
   "execution_count": 602,
   "id": "3ba13174",
   "metadata": {},
   "outputs": [
    {
     "name": "stdout",
     "output_type": "stream",
     "text": [
      "[('great', 0.04589813947677612), ('staff', 0.030649587512016296), ('upon', 0.030649587512016296)]\n",
      "[('rooms', 0.0904175415635109), ('nice', 0.06037849187850952), ('very', 0.06037849187850952)]\n",
      "[('room', 0.03234914690256119), ('looked', 0.03234914690256119), ('dirty', 0.024282027035951614)]\n",
      "[('your', 0.03511432558298111), ('photos', 0.03511432558298111), ('when', 0.023448435589671135)]\n",
      "[('hotel', 0.12438016384840012), ('with', 0.08305785059928894), ('great', 0.08305785059928894)]\n",
      "[('cleaner', 0.043478261679410934), ('change', 0.043478261679410934), ('sheet', 0.043478261679410934)]\n",
      "[('good', 0.11062190681695938), ('apart', 0.05558612942695618), ('from', 0.05558612942695618)]\n",
      "[('room', 0.10479666292667389), ('even', 0.05265901982784271), ('though', 0.05265901982784271)]\n",
      "[('good', 0.09622761607170105), ('hotel', 0.06425830721855164), ('aircondition', 0.03228900209069252)]\n"
     ]
    },
    {
     "name": "stderr",
     "output_type": "stream",
     "text": [
      "C:\\Users\\Hi!_Imran_Nazir\\AppData\\Local\\Temp\\ipykernel_1936\\1963271609.py:1: SettingWithCopyWarning: \n",
      "A value is trying to be set on a copy of a slice from a DataFrame.\n",
      "Try using .loc[row_indexer,col_indexer] = value instead\n",
      "\n",
      "See the caveats in the documentation: https://pandas.pydata.org/pandas-docs/stable/user_guide/indexing.html#returning-a-view-versus-a-copy\n",
      "  df1['Topics']=df1['Cleaned Text'].apply(lambda x:((get_topic(x))))\n"
     ]
    }
   ],
   "source": [
    "df1['Topics']=df1['Cleaned Text'].apply(lambda x:((get_topic(x))))"
   ]
  },
  {
   "cell_type": "markdown",
   "id": "e5a3c1b4",
   "metadata": {},
   "source": [
    "### Separating Topic and Their Probability"
   ]
  },
  {
   "cell_type": "code",
   "execution_count": 603,
   "id": "92776e78",
   "metadata": {
    "scrolled": true
   },
   "outputs": [
    {
     "name": "stderr",
     "output_type": "stream",
     "text": [
      "C:\\Users\\Hi!_Imran_Nazir\\AppData\\Local\\Temp\\ipykernel_1936\\2260995561.py:1: SettingWithCopyWarning: \n",
      "A value is trying to be set on a copy of a slice from a DataFrame.\n",
      "Try using .loc[row_indexer,col_indexer] = value instead\n",
      "\n",
      "See the caveats in the documentation: https://pandas.pydata.org/pandas-docs/stable/user_guide/indexing.html#returning-a-view-versus-a-copy\n",
      "  df1['Topics']=df1['Topics'].apply(lambda x:[item[0] for item in x])\n"
     ]
    }
   ],
   "source": [
    "df1['Topics']=df1['Topics'].apply(lambda x:[item[0] for item in x])"
   ]
  },
  {
   "cell_type": "code",
   "execution_count": 604,
   "id": "11da929a",
   "metadata": {},
   "outputs": [
    {
     "data": {
      "text/html": [
       "<div>\n",
       "<style scoped>\n",
       "    .dataframe tbody tr th:only-of-type {\n",
       "        vertical-align: middle;\n",
       "    }\n",
       "\n",
       "    .dataframe tbody tr th {\n",
       "        vertical-align: top;\n",
       "    }\n",
       "\n",
       "    .dataframe thead th {\n",
       "        text-align: right;\n",
       "    }\n",
       "</style>\n",
       "<table border=\"1\" class=\"dataframe\">\n",
       "  <thead>\n",
       "    <tr style=\"text-align: right;\">\n",
       "      <th></th>\n",
       "      <th>Review Text</th>\n",
       "      <th>Cleaned Text</th>\n",
       "      <th>Topics</th>\n",
       "    </tr>\n",
       "  </thead>\n",
       "  <tbody>\n",
       "    <tr>\n",
       "      <th>0</th>\n",
       "      <td>No real complaints the hotel was great great...</td>\n",
       "      <td>real complaints hotel great great location sur...</td>\n",
       "      <td>[great, staff, upon]</td>\n",
       "    </tr>\n",
       "    <tr>\n",
       "      <th>1</th>\n",
       "      <td>Rooms are nice but for elderly a bit difficul...</td>\n",
       "      <td>rooms nice elderly difficult most rooms story ...</td>\n",
       "      <td>[rooms, nice, very]</td>\n",
       "    </tr>\n",
       "    <tr>\n",
       "      <th>2</th>\n",
       "      <td>My room was dirty and I was afraid to walk ba...</td>\n",
       "      <td>room dirty afraid walk barefoot floor which lo...</td>\n",
       "      <td>[room, looked, dirty]</td>\n",
       "    </tr>\n",
       "    <tr>\n",
       "      <th>3</th>\n",
       "      <td>You When I booked with your company on line y...</td>\n",
       "      <td>when booked with your company line showed pict...</td>\n",
       "      <td>[your, photos, when]</td>\n",
       "    </tr>\n",
       "    <tr>\n",
       "      <th>4</th>\n",
       "      <td>Backyard of the hotel is total mess shouldn t...</td>\n",
       "      <td>backyard hotel total mess shouldn happen hotel...</td>\n",
       "      <td>[hotel, with, great]</td>\n",
       "    </tr>\n",
       "    <tr>\n",
       "      <th>5</th>\n",
       "      <td>Cleaner did not change our sheet and duvet ev...</td>\n",
       "      <td>cleaner change sheet duvet everyday just made ...</td>\n",
       "      <td>[cleaner, change, sheet]</td>\n",
       "    </tr>\n",
       "    <tr>\n",
       "      <th>6</th>\n",
       "      <td>Apart from the price for the brekfast Everyth...</td>\n",
       "      <td>apart from price brekfast everything very good...</td>\n",
       "      <td>[good, apart, from]</td>\n",
       "    </tr>\n",
       "    <tr>\n",
       "      <th>7</th>\n",
       "      <td>Even though the pictures show very clean room...</td>\n",
       "      <td>even though pictures show very clean rooms act...</td>\n",
       "      <td>[room, even, though]</td>\n",
       "    </tr>\n",
       "    <tr>\n",
       "      <th>8</th>\n",
       "      <td>The aircondition makes so much noise and its ...</td>\n",
       "      <td>aircondition makes much noise hard sleep night...</td>\n",
       "      <td>[good, hotel, aircondition]</td>\n",
       "    </tr>\n",
       "  </tbody>\n",
       "</table>\n",
       "</div>"
      ],
      "text/plain": [
       "                                         Review Text  \\\n",
       "0    No real complaints the hotel was great great...   \n",
       "1   Rooms are nice but for elderly a bit difficul...   \n",
       "2   My room was dirty and I was afraid to walk ba...   \n",
       "3   You When I booked with your company on line y...   \n",
       "4   Backyard of the hotel is total mess shouldn t...   \n",
       "5   Cleaner did not change our sheet and duvet ev...   \n",
       "6   Apart from the price for the brekfast Everyth...   \n",
       "7   Even though the pictures show very clean room...   \n",
       "8   The aircondition makes so much noise and its ...   \n",
       "\n",
       "                                        Cleaned Text  \\\n",
       "0  real complaints hotel great great location sur...   \n",
       "1  rooms nice elderly difficult most rooms story ...   \n",
       "2  room dirty afraid walk barefoot floor which lo...   \n",
       "3  when booked with your company line showed pict...   \n",
       "4  backyard hotel total mess shouldn happen hotel...   \n",
       "5  cleaner change sheet duvet everyday just made ...   \n",
       "6  apart from price brekfast everything very good...   \n",
       "7  even though pictures show very clean rooms act...   \n",
       "8  aircondition makes much noise hard sleep night...   \n",
       "\n",
       "                        Topics  \n",
       "0         [great, staff, upon]  \n",
       "1          [rooms, nice, very]  \n",
       "2        [room, looked, dirty]  \n",
       "3         [your, photos, when]  \n",
       "4         [hotel, with, great]  \n",
       "5     [cleaner, change, sheet]  \n",
       "6          [good, apart, from]  \n",
       "7         [room, even, though]  \n",
       "8  [good, hotel, aircondition]  "
      ]
     },
     "execution_count": 604,
     "metadata": {},
     "output_type": "execute_result"
    }
   ],
   "source": [
    "df1"
   ]
  },
  {
   "cell_type": "markdown",
   "id": "552eb614",
   "metadata": {},
   "source": [
    "# Saving Data To Desired Format"
   ]
  },
  {
   "cell_type": "code",
   "execution_count": 607,
   "id": "ab368c71",
   "metadata": {},
   "outputs": [],
   "source": [
    "df1[[\"Review Text\",\"Topics\"]].to_csv('Topics.csv')"
   ]
  },
  {
   "cell_type": "code",
   "execution_count": null,
   "id": "be077aac",
   "metadata": {},
   "outputs": [],
   "source": []
  }
 ],
 "metadata": {
  "kernelspec": {
   "display_name": "Python 3 (ipykernel)",
   "language": "python",
   "name": "python3"
  },
  "language_info": {
   "codemirror_mode": {
    "name": "ipython",
    "version": 3
   },
   "file_extension": ".py",
   "mimetype": "text/x-python",
   "name": "python",
   "nbconvert_exporter": "python",
   "pygments_lexer": "ipython3",
   "version": "3.10.5"
  }
 },
 "nbformat": 4,
 "nbformat_minor": 5
}
