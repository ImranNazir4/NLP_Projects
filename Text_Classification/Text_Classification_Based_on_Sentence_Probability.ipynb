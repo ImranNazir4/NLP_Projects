{
 "cells": [
  {
   "cell_type": "code",
   "execution_count": null,
   "id": "ee8ccc6f",
   "metadata": {},
   "outputs": [],
   "source": [
    "pip install neattext\n",
    "pip intall  textblob\n",
    "pip install classy_classification\n",
    "pip install geotext"
   ]
  },
  {
   "cell_type": "markdown",
   "id": "c7d4138b",
   "metadata": {},
   "source": [
    "# Importing Necessities"
   ]
  },
  {
   "cell_type": "code",
   "execution_count": 343,
   "id": "3c7a1614",
   "metadata": {},
   "outputs": [],
   "source": [
    "import pandas as pd               #package for data analysi\n",
    "import matplotlib.pyplot as plt   #package for data visalization\n",
    "import seaborn as sns             #another package for data visualization\n",
    "from textblob import TextBlob     #package for text analysis\n",
    "import neattext as nt             #package for text cleaning"
   ]
  },
  {
   "cell_type": "markdown",
   "id": "385ae86c",
   "metadata": {},
   "source": [
    "# Reading the Dataset"
   ]
  },
  {
   "cell_type": "code",
   "execution_count": 344,
   "id": "544b163a",
   "metadata": {},
   "outputs": [],
   "source": [
    "df=pd.read_csv(\"Articles.csv\",encoding='cp1252')"
   ]
  },
  {
   "cell_type": "markdown",
   "id": "1774775d",
   "metadata": {},
   "source": [
    "### Shape of the Dataset"
   ]
  },
  {
   "cell_type": "code",
   "execution_count": 345,
   "id": "a8550c5f",
   "metadata": {},
   "outputs": [
    {
     "data": {
      "text/plain": [
       "(2692, 4)"
      ]
     },
     "execution_count": 345,
     "metadata": {},
     "output_type": "execute_result"
    }
   ],
   "source": [
    "df.shape"
   ]
  },
  {
   "cell_type": "markdown",
   "id": "12caa223",
   "metadata": {},
   "source": [
    "### Sample of the Dataset"
   ]
  },
  {
   "cell_type": "code",
   "execution_count": 346,
   "id": "fe933291",
   "metadata": {},
   "outputs": [
    {
     "data": {
      "text/html": [
       "<div>\n",
       "<style scoped>\n",
       "    .dataframe tbody tr th:only-of-type {\n",
       "        vertical-align: middle;\n",
       "    }\n",
       "\n",
       "    .dataframe tbody tr th {\n",
       "        vertical-align: top;\n",
       "    }\n",
       "\n",
       "    .dataframe thead th {\n",
       "        text-align: right;\n",
       "    }\n",
       "</style>\n",
       "<table border=\"1\" class=\"dataframe\">\n",
       "  <thead>\n",
       "    <tr style=\"text-align: right;\">\n",
       "      <th></th>\n",
       "      <th>Article</th>\n",
       "      <th>Date</th>\n",
       "      <th>Heading</th>\n",
       "      <th>NewsType</th>\n",
       "    </tr>\n",
       "  </thead>\n",
       "  <tbody>\n",
       "    <tr>\n",
       "      <th>0</th>\n",
       "      <td>KARACHI: The Sindh government has decided to b...</td>\n",
       "      <td>1/1/2015</td>\n",
       "      <td>sindh govt decides to cut public transport far...</td>\n",
       "      <td>business</td>\n",
       "    </tr>\n",
       "    <tr>\n",
       "      <th>1</th>\n",
       "      <td>HONG KONG: Asian markets started 2015 on an up...</td>\n",
       "      <td>1/2/2015</td>\n",
       "      <td>asia stocks up in new year trad</td>\n",
       "      <td>business</td>\n",
       "    </tr>\n",
       "    <tr>\n",
       "      <th>2</th>\n",
       "      <td>HONG KONG:  Hong Kong shares opened 0.66 perce...</td>\n",
       "      <td>1/5/2015</td>\n",
       "      <td>hong kong stocks open 0.66 percent lower</td>\n",
       "      <td>business</td>\n",
       "    </tr>\n",
       "    <tr>\n",
       "      <th>3</th>\n",
       "      <td>HONG KONG: Asian markets tumbled Tuesday follo...</td>\n",
       "      <td>1/6/2015</td>\n",
       "      <td>asian stocks sink euro near nine year</td>\n",
       "      <td>business</td>\n",
       "    </tr>\n",
       "    <tr>\n",
       "      <th>4</th>\n",
       "      <td>NEW YORK: US oil prices Monday slipped below $...</td>\n",
       "      <td>1/6/2015</td>\n",
       "      <td>us oil prices slip below 50 a barr</td>\n",
       "      <td>business</td>\n",
       "    </tr>\n",
       "  </tbody>\n",
       "</table>\n",
       "</div>"
      ],
      "text/plain": [
       "                                             Article      Date  \\\n",
       "0  KARACHI: The Sindh government has decided to b...  1/1/2015   \n",
       "1  HONG KONG: Asian markets started 2015 on an up...  1/2/2015   \n",
       "2  HONG KONG:  Hong Kong shares opened 0.66 perce...  1/5/2015   \n",
       "3  HONG KONG: Asian markets tumbled Tuesday follo...  1/6/2015   \n",
       "4  NEW YORK: US oil prices Monday slipped below $...  1/6/2015   \n",
       "\n",
       "                                             Heading  NewsType  \n",
       "0  sindh govt decides to cut public transport far...  business  \n",
       "1                    asia stocks up in new year trad  business  \n",
       "2           hong kong stocks open 0.66 percent lower  business  \n",
       "3             asian stocks sink euro near nine year   business  \n",
       "4                 us oil prices slip below 50 a barr  business  "
      ]
     },
     "execution_count": 346,
     "metadata": {},
     "output_type": "execute_result"
    }
   ],
   "source": [
    "df.head(5)"
   ]
  },
  {
   "cell_type": "markdown",
   "id": "2b51afd7",
   "metadata": {},
   "source": [
    "# Checking Null Values"
   ]
  },
  {
   "cell_type": "code",
   "execution_count": 347,
   "id": "35945c05",
   "metadata": {
    "scrolled": true
   },
   "outputs": [
    {
     "data": {
      "text/plain": [
       "Article     0\n",
       "Date        0\n",
       "Heading     0\n",
       "NewsType    0\n",
       "dtype: int64"
      ]
     },
     "execution_count": 347,
     "metadata": {},
     "output_type": "execute_result"
    }
   ],
   "source": [
    "df.isnull().sum()"
   ]
  },
  {
   "cell_type": "markdown",
   "id": "76dc3d82",
   "metadata": {},
   "source": [
    "# News Type Distribution"
   ]
  },
  {
   "cell_type": "code",
   "execution_count": 348,
   "id": "94257061",
   "metadata": {},
   "outputs": [
    {
     "data": {
      "image/png": "[encoded data removed]",
      "text/plain": [
       "<Figure size 720x360 with 1 Axes>"
      ]
     },
     "metadata": {},
     "output_type": "display_data"
    }
   ],
   "source": [
    "plt.figure(figsize=(10, 5))\n",
    "df.NewsType.value_counts().plot.pie()\n",
    "plt.title(\"Types of News\")\n",
    "plt.show()"
   ]
  },
  {
   "cell_type": "markdown",
   "id": "7274933c",
   "metadata": {},
   "source": [
    "### Getting Cities and Countries from the Articles"
   ]
  },
  {
   "cell_type": "code",
   "execution_count": 349,
   "id": "50d91ebe",
   "metadata": {},
   "outputs": [],
   "source": [
    "from geotext import GeoText  #package for getting geographic locations from the text\n",
    "places = GeoText(articles_combine)\n",
    "cities=places.cities\n",
    "countries=places.countries"
   ]
  },
  {
   "cell_type": "markdown",
   "id": "bfdf120b",
   "metadata": {},
   "source": [
    "# Occurences of the Countries"
   ]
  },
  {
   "cell_type": "code",
   "execution_count": 350,
   "id": "d89fcc38",
   "metadata": {},
   "outputs": [
    {
     "data": {
      "image/png": "[encoded data removed]",
      "text/plain": [
       "<Figure size 1080x360 with 1 Axes>"
      ]
     },
     "metadata": {
      "needs_background": "light"
     },
     "output_type": "display_data"
    }
   ],
   "source": [
    "plt.figure(figsize=(15, 5))\n",
    "pd.DataFrame(countries).value_counts()[0:50].plot.bar()\n",
    "plt.title(\"Top 50 Countries By Thir Occurences\")\n",
    "plt.show()"
   ]
  },
  {
   "cell_type": "markdown",
   "id": "d657d373",
   "metadata": {},
   "source": [
    "# Occurences of the Cities"
   ]
  },
  {
   "cell_type": "code",
   "execution_count": 351,
   "id": "e8fc1b38",
   "metadata": {},
   "outputs": [
    {
     "data": {
      "image/png": "[encoded data removed]",
      "text/plain": [
       "<Figure size 1080x360 with 1 Axes>"
      ]
     },
     "metadata": {
      "needs_background": "light"
     },
     "output_type": "display_data"
    }
   ],
   "source": [
    "plt.figure(figsize=(15, 5))\n",
    "pd.DataFrame(cities).value_counts()[0:50].plot.bar(color='black')\n",
    "plt.title(\"Top 50 Cities By Thir Occurences\")\n",
    "plt.show()"
   ]
  },
  {
   "cell_type": "markdown",
   "id": "00316529",
   "metadata": {},
   "source": [
    "# Parts of Speech in Articles"
   ]
  },
  {
   "cell_type": "code",
   "execution_count": 352,
   "id": "7369a4eb",
   "metadata": {},
   "outputs": [],
   "source": [
    "articles_combine=''.join(df['Article'])"
   ]
  },
  {
   "cell_type": "code",
   "execution_count": 354,
   "id": "288c25ea",
   "metadata": {},
   "outputs": [
    {
     "data": {
      "image/png": "[encoded data removed]",
      "text/plain": [
       "<Figure size 1440x288 with 1 Axes>"
      ]
     },
     "metadata": {
      "needs_background": "light"
     },
     "output_type": "display_data"
    }
   ],
   "source": [
    "fig,ax = plt.subplots(figsize=(20,4))  #define figure size\n",
    "blob = TextBlob(str(articles_combine))   #comments variable contains all the comments\n",
    "pos_df = pd.DataFrame(blob.tags, columns = ['word' , 'pos'])\n",
    "pos_df = pos_df.pos.value_counts()[:20]\n",
    "pos_df.plot(kind = 'bar',color='red')\n",
    "for container in ax.containers:\n",
    "    ax.bar_label(container)\n",
    "plt.title(\"Top 20 Parts of Speeches\")\n",
    "plt.show()"
   ]
  },
  {
   "cell_type": "markdown",
   "id": "6cef5372",
   "metadata": {},
   "source": [
    "# Text Metrics for Article Feature"
   ]
  },
  {
   "cell_type": "code",
   "execution_count": 355,
   "id": "612797ac",
   "metadata": {},
   "outputs": [
    {
     "data": {
      "text/plain": [
       "{'text_length': 4872573,\n",
       " 'num_of_vowels': 1459200,\n",
       " 'num_of_consonants': 2397100,\n",
       " 'num_of_stopwords': 328684,\n",
       " 'vowels_stats': {'a': 349100,\n",
       "  'e': 445158,\n",
       "  'i': 292016,\n",
       "  'o': 271123,\n",
       "  'u': 101803},\n",
       " 'consonants_stats': {'b': 62348,\n",
       "  'c': 121108,\n",
       "  'd': 159437,\n",
       "  'f': 86139,\n",
       "  'g': 82683,\n",
       "  'h': 171770,\n",
       "  'j': 8636,\n",
       "  'k': 39328,\n",
       "  'l': 159218,\n",
       "  'm': 98057,\n",
       "  'n': 289677,\n",
       "  'p': 86925,\n",
       "  'q': 4018,\n",
       "  'r': 254707,\n",
       "  's': 255425,\n",
       "  't': 339624,\n",
       "  'v': 35733,\n",
       "  'w': 69535,\n",
       "  'x': 9267,\n",
       "  'y': 58250,\n",
       "  'z': 5215}}"
      ]
     },
     "execution_count": 355,
     "metadata": {},
     "output_type": "execute_result"
    }
   ],
   "source": [
    "from neattext import TextMetrics    #importing textmetrics from neattext\n",
    "docx = TextMetrics()\n",
    "docx.text = articles_combine\n",
    "docx.word_stats()              #displaying the word statistics"
   ]
  },
  {
   "cell_type": "markdown",
   "id": "8d44e2ba",
   "metadata": {},
   "source": [
    "# Processing for Model Training"
   ]
  },
  {
   "cell_type": "markdown",
   "id": "ef12a93b",
   "metadata": {},
   "source": [
    "### Getting Labels for the Given Text"
   ]
  },
  {
   "cell_type": "code",
   "execution_count": 356,
   "id": "7e5be81d",
   "metadata": {},
   "outputs": [],
   "source": [
    "newstype_list=df['NewsType'].value_counts().index.tolist()"
   ]
  },
  {
   "cell_type": "markdown",
   "id": "a0a5e63b",
   "metadata": {},
   "source": [
    "### Separating Articles Related to Business and Sports and Coverting them into a List"
   ]
  },
  {
   "cell_type": "code",
   "execution_count": 357,
   "id": "eb86aa51",
   "metadata": {},
   "outputs": [],
   "source": [
    "business_list=df[df['NewsType']=='business']['Heading'].to_list()"
   ]
  },
  {
   "cell_type": "code",
   "execution_count": 358,
   "id": "42a578e2",
   "metadata": {},
   "outputs": [],
   "source": [
    "sports_list=df[df['NewsType']=='sports']['Heading'].to_list()"
   ]
  },
  {
   "cell_type": "code",
   "execution_count": 359,
   "id": "1c099ff4",
   "metadata": {},
   "outputs": [],
   "source": [
    "model_data={}"
   ]
  },
  {
   "cell_type": "code",
   "execution_count": 360,
   "id": "f79c8c26",
   "metadata": {},
   "outputs": [],
   "source": [
    "### We need dictionary for Model Training therefore we need to convert our data into dictionary"
   ]
  },
  {
   "cell_type": "code",
   "execution_count": 361,
   "id": "976b402f",
   "metadata": {},
   "outputs": [],
   "source": [
    "model_data={newstype_list[0]:sports_list,newstype_list[1]:business_list}"
   ]
  },
  {
   "cell_type": "markdown",
   "id": "ad115e2f",
   "metadata": {},
   "source": [
    "### Importing Packaged for Text Classification"
   ]
  },
  {
   "cell_type": "code",
   "execution_count": 362,
   "id": "1ac510a1",
   "metadata": {},
   "outputs": [],
   "source": [
    "import spacy  #package for text analysis\n",
    "import classy_classification  #supportive package for text classification"
   ]
  },
  {
   "cell_type": "markdown",
   "id": "705d2ada",
   "metadata": {},
   "source": [
    "# Model Training"
   ]
  },
  {
   "cell_type": "code",
   "execution_count": 372,
   "id": "b9494a4e",
   "metadata": {},
   "outputs": [],
   "source": [
    "model=input(\"Enter Your Desired Spacy Model\")"
   ]
  },
  {
   "cell_type": "code",
   "execution_count": null,
   "id": "1ea5ec92",
   "metadata": {},
   "outputs": [],
   "source": [
    "# spacy download en_core_web_md (run this command in cmd)"
   ]
  },
  {
   "cell_type": "code",
   "execution_count": 363,
   "id": "216f3071",
   "metadata": {},
   "outputs": [
    {
     "name": "stdout",
     "output_type": "stream",
     "text": [
      "Fitting 5 folds for each of 6 candidates, totalling 30 fits\n"
     ]
    },
    {
     "data": {
      "text/plain": [
       "<classy_classification.classifiers.spacy_internal.classySpacyInternal at 0x25974b44220>"
      ]
     },
     "execution_count": 363,
     "metadata": {},
     "output_type": "execute_result"
    }
   ],
   "source": [
    "nlp = spacy.load(\"en_core_web_md\")   #loading medium model of spacy\n",
    "nlp.add_pipe(\"text_categorizer\", config={\"data\": model_data, \"model\": model}) #using spacy pipe for model training"
   ]
  },
  {
   "cell_type": "markdown",
   "id": "2a4062d2",
   "metadata": {},
   "source": [
    "# Building Sentence Tokenizer"
   ]
  },
  {
   "cell_type": "code",
   "execution_count": 364,
   "id": "390eaa38",
   "metadata": {},
   "outputs": [],
   "source": [
    "sentence_model = spacy.blank(\"en\")"
   ]
  },
  {
   "cell_type": "code",
   "execution_count": 365,
   "id": "3345d4f8",
   "metadata": {},
   "outputs": [
    {
     "data": {
      "text/plain": [
       "<spacy.pipeline.sentencizer.Sentencizer at 0x25993206200>"
      ]
     },
     "execution_count": 365,
     "metadata": {},
     "output_type": "execute_result"
    }
   ],
   "source": [
    "sentence_model.add_pipe(\"sentencizer\")  #adding sentence tokenizer pipe"
   ]
  },
  {
   "cell_type": "markdown",
   "id": "8fa133ee",
   "metadata": {},
   "source": [
    "###  Reading the Document"
   ]
  },
  {
   "cell_type": "code",
   "execution_count": 366,
   "id": "5c41e681",
   "metadata": {},
   "outputs": [],
   "source": [
    "with open (\"inst.txt\", \"r\") as f:\n",
    "    text = f.read()"
   ]
  },
  {
   "cell_type": "code",
   "execution_count": 367,
   "id": "b8c6b268",
   "metadata": {},
   "outputs": [],
   "source": [
    "sentences = sentence_model(text) #converting given text to sentences"
   ]
  },
  {
   "cell_type": "markdown",
   "id": "f4aee020",
   "metadata": {},
   "source": [
    "# Calculating Probability of Each Sentence and Storing it"
   ]
  },
  {
   "cell_type": "code",
   "execution_count": 368,
   "id": "5beb81af",
   "metadata": {},
   "outputs": [],
   "source": [
    "classified_data = []\n",
    "for sentence in sentences.sents:\n",
    "    doc = nlp(sentence.text)\n",
    "    classified_data.append(doc._.cats) #.cats gives probability that how much a \n",
    "                                        #sentence is similar to labels on which model trained"
   ]
  },
  {
   "cell_type": "code",
   "execution_count": 369,
   "id": "947a21cd",
   "metadata": {},
   "outputs": [],
   "source": [
    "classified_df=pd.DataFrame(classified_data)"
   ]
  },
  {
   "cell_type": "markdown",
   "id": "87c77e25",
   "metadata": {},
   "source": [
    "# Printing the Final Results"
   ]
  },
  {
   "cell_type": "code",
   "execution_count": 370,
   "id": "deaae20a",
   "metadata": {},
   "outputs": [
    {
     "name": "stdout",
     "output_type": "stream",
     "text": [
      "Your Documents 95.19% Matched with business Label\n",
      "Your Documents 4.81% Matched with sports Label\n"
     ]
    }
   ],
   "source": [
    "for i in classified_df.columns:\n",
    "    print(f'Your Documents {round(sum(classified_df[i]/classified_df.shape[0]),4)*100}% Matched with {i} Label' )"
   ]
  },
  {
   "cell_type": "code",
   "execution_count": null,
   "id": "04326e13",
   "metadata": {},
   "outputs": [],
   "source": []
  },
  {
   "cell_type": "code",
   "execution_count": null,
   "id": "4d41706b",
   "metadata": {},
   "outputs": [],
   "source": []
  },
  {
   "cell_type": "code",
   "execution_count": null,
   "id": "fe2bb92a",
   "metadata": {},
   "outputs": [],
   "source": []
  },
  {
   "cell_type": "code",
   "execution_count": null,
   "id": "87da12ec",
   "metadata": {},
   "outputs": [],
   "source": []
  },
  {
   "cell_type": "code",
   "execution_count": null,
   "id": "6dbe1233",
   "metadata": {},
   "outputs": [],
   "source": []
  }
 ],
 "metadata": {
  "kernelspec": {
   "display_name": "Python 3 (ipykernel)",
   "language": "python",
   "name": "python3"
  },
  "language_info": {
   "codemirror_mode": {
    "name": "ipython",
    "version": 3
   },
   "file_extension": ".py",
   "mimetype": "text/x-python",
   "name": "python",
   "nbconvert_exporter": "python",
   "pygments_lexer": "ipython3",
   "version": "3.10.5"
  }
 },
 "nbformat": 4,
 "nbformat_minor": 5
}
