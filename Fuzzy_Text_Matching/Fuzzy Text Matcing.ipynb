{
 "cells": [
  {
   "cell_type": "markdown",
   "id": "bd6db700",
   "metadata": {},
   "source": [
    "# Required Libararies"
   ]
  },
  {
   "cell_type": "code",
   "execution_count": 1,
   "id": "5ceeb6e2",
   "metadata": {},
   "outputs": [
    {
     "name": "stderr",
     "output_type": "stream",
     "text": [
      "c:\\users\\zee tech\\appdata\\local\\programs\\python\\python39\\lib\\site-packages\\fuzzywuzzy\\fuzz.py:11: UserWarning: Using slow pure-python SequenceMatcher. Install python-Levenshtein to remove this warning\n",
      "  warnings.warn('Using slow pure-python SequenceMatcher. Install python-Levenshtein to remove this warning')\n"
     ]
    }
   ],
   "source": [
    "import openpyxl   #to read excel file\n",
    "import pandas as pd   #data analysis\n",
    "from fuzzywuzzy import fuzz, process  #fuzzy text matching libariries"
   ]
  },
  {
   "cell_type": "markdown",
   "id": "085408ad",
   "metadata": {},
   "source": [
    "# Reading the Data Files"
   ]
  },
  {
   "cell_type": "code",
   "execution_count": 2,
   "id": "6e7574c6",
   "metadata": {},
   "outputs": [],
   "source": [
    "#dataset files\n",
    "dataset1=pd.read_excel('dataset1.xlsx')\n",
    "dataset1=pd.DataFrame(dataset1)\n",
    "dataset2=pd.read_excel('dataset2.xlsx')\n",
    "dataset2=pd.DataFrame(dataset2)\n",
    "\n",
    "#main dataset file\n",
    "main=pd.read_excel('main.xlsx')\n",
    "main=pd.DataFrame(main)"
   ]
  },
  {
   "cell_type": "markdown",
   "id": "292648ac",
   "metadata": {},
   "source": [
    "# Data Preprocessing"
   ]
  },
  {
   "cell_type": "markdown",
   "id": "6bb41e85",
   "metadata": {},
   "source": [
    "# Null Values Imputations"
   ]
  },
  {
   "cell_type": "code",
   "execution_count": 3,
   "id": "6cb27536",
   "metadata": {},
   "outputs": [],
   "source": [
    "#checking null values"
   ]
  },
  {
   "cell_type": "code",
   "execution_count": 4,
   "id": "4a206e0a",
   "metadata": {},
   "outputs": [
    {
     "data": {
      "text/plain": [
       "id_1          0\n",
       "Model Year    0\n",
       "Brand         0\n",
       "model         0\n",
       "dtype: int64"
      ]
     },
     "execution_count": 4,
     "metadata": {},
     "output_type": "execute_result"
    }
   ],
   "source": [
    "dataset1.isnull().sum()"
   ]
  },
  {
   "cell_type": "code",
   "execution_count": 5,
   "id": "362a65d3",
   "metadata": {},
   "outputs": [
    {
     "data": {
      "text/plain": [
       "id_2          0\n",
       "Model Year    0\n",
       "Brand         3\n",
       "model         1\n",
       "dtype: int64"
      ]
     },
     "execution_count": 5,
     "metadata": {},
     "output_type": "execute_result"
    }
   ],
   "source": [
    "dataset2.isnull().sum()"
   ]
  },
  {
   "cell_type": "code",
   "execution_count": 6,
   "id": "23824426",
   "metadata": {},
   "outputs": [
    {
     "data": {
      "text/plain": [
       "id_2          0\n",
       "Model Year    0\n",
       "Brand         0\n",
       "model         0\n",
       "dtype: int64"
      ]
     },
     "execution_count": 6,
     "metadata": {},
     "output_type": "execute_result"
    }
   ],
   "source": [
    "#droping null values\n",
    "dataset2.dropna(inplace=True)\n",
    "dataset2.isnull().sum()"
   ]
  },
  {
   "cell_type": "code",
   "execution_count": 7,
   "id": "e070873f",
   "metadata": {},
   "outputs": [
    {
     "data": {
      "text/plain": [
       "id_main        0\n",
       "group          0\n",
       "maker_brand    0\n",
       "model          6\n",
       "dtype: int64"
      ]
     },
     "execution_count": 7,
     "metadata": {},
     "output_type": "execute_result"
    }
   ],
   "source": [
    "main.isnull().sum()"
   ]
  },
  {
   "cell_type": "code",
   "execution_count": 8,
   "id": "f9ee2137",
   "metadata": {},
   "outputs": [
    {
     "data": {
      "text/plain": [
       "id_main        0.000000\n",
       "group          0.000000\n",
       "maker_brand    0.000000\n",
       "model          0.043796\n",
       "dtype: float64"
      ]
     },
     "execution_count": 8,
     "metadata": {},
     "output_type": "execute_result"
    }
   ],
   "source": [
    "#precentage of null values\n",
    "main.isnull().sum()/main.shape[0]"
   ]
  },
  {
   "cell_type": "code",
   "execution_count": 9,
   "id": "206e10b0",
   "metadata": {},
   "outputs": [],
   "source": [
    "#null values are too much small so i dropped them\n",
    "main.dropna(inplace=True)"
   ]
  },
  {
   "cell_type": "code",
   "execution_count": 10,
   "id": "2d5d655b",
   "metadata": {},
   "outputs": [
    {
     "data": {
      "text/plain": [
       "id_main        0\n",
       "group          0\n",
       "maker_brand    0\n",
       "model          0\n",
       "dtype: int64"
      ]
     },
     "execution_count": 10,
     "metadata": {},
     "output_type": "execute_result"
    }
   ],
   "source": [
    "main.isnull().sum()"
   ]
  },
  {
   "cell_type": "code",
   "execution_count": 11,
   "id": "51c1e220",
   "metadata": {},
   "outputs": [],
   "source": [
    "#converting models to list\n",
    "main_list=main['model'].tolist()\n",
    "dataset1_list=dataset1['model'].tolist()\n",
    "dataset2_list=dataset2['model'].tolist()"
   ]
  },
  {
   "cell_type": "markdown",
   "id": "4d5b4cb5",
   "metadata": {},
   "source": [
    "# Finding Matches From Dataset1 & 2"
   ]
  },
  {
   "cell_type": "code",
   "execution_count": 12,
   "id": "ac848e0b",
   "metadata": {},
   "outputs": [],
   "source": [
    "dataset1_match=[]\n",
    "dataset2_match=[]\n",
    "#finding closest match of main data car model from dataset1 car models and creating a list\n",
    "for i in main_list:\n",
    "    res = process.extract(i, dataset1_list, limit=1)[0][0] #find closest match from dataset1 agains main file\n",
    "    id = dataset1[dataset1.model == res].id_1.values[0]\n",
    "    dataset1_match.append(id)\n",
    "\n",
    "#finding closest match of main data car model from dataset2 car models and creating a list\n",
    "\n",
    "for i in main_list:\n",
    "    res = process.extract(i, dataset2_list, limit=1)[0][0] #find closest match from datasets agains main file\n",
    "    id = dataset2[dataset2.model == res].id_2.values[0]\n",
    "    dataset2_match.append(id)"
   ]
  },
  {
   "cell_type": "markdown",
   "id": "34e8aa35",
   "metadata": {},
   "source": [
    "# Matched items from dataset1"
   ]
  },
  {
   "cell_type": "code",
   "execution_count": 16,
   "id": "fe47455a",
   "metadata": {},
   "outputs": [
    {
     "data": {
      "text/plain": [
       "131"
      ]
     },
     "execution_count": 16,
     "metadata": {},
     "output_type": "execute_result"
    }
   ],
   "source": [
    "len(dataset1_match)\n",
    "# dataset1_match    #un-comment this to see list of matched models"
   ]
  },
  {
   "cell_type": "markdown",
   "id": "10fdde7e",
   "metadata": {},
   "source": [
    "# Matched items from dataset2"
   ]
  },
  {
   "cell_type": "code",
   "execution_count": 17,
   "id": "692ff5e0",
   "metadata": {},
   "outputs": [
    {
     "data": {
      "text/plain": [
       "131"
      ]
     },
     "execution_count": 17,
     "metadata": {},
     "output_type": "execute_result"
    }
   ],
   "source": [
    "\n",
    "len(dataset2_match)\n",
    "# dataset2_match    #un-comment this to see list of matched models"
   ]
  },
  {
   "cell_type": "markdown",
   "id": "7ec8e9c6",
   "metadata": {},
   "source": [
    "# Preprocessing on the Final Data"
   ]
  },
  {
   "cell_type": "markdown",
   "id": "a0941503",
   "metadata": {},
   "source": [
    "# Reading & Filling missing values in the Final Data File"
   ]
  },
  {
   "cell_type": "code",
   "execution_count": 13,
   "id": "62a11273",
   "metadata": {},
   "outputs": [
    {
     "data": {
      "text/plain": [
       "(131, 6)"
      ]
     },
     "execution_count": 13,
     "metadata": {},
     "output_type": "execute_result"
    }
   ],
   "source": [
    "final=pd.read_excel('final.xlsx')\n",
    "final=pd.DataFrame(final)\n",
    "final.drop(final[final.Model.isnull()].index, axis=0 ,inplace=True)\n",
    "final.shape\n"
   ]
  },
  {
   "cell_type": "markdown",
   "id": "8172f491",
   "metadata": {},
   "source": [
    "# Imputation of Matches in Final Data File"
   ]
  },
  {
   "cell_type": "code",
   "execution_count": 14,
   "id": "c72737d4",
   "metadata": {},
   "outputs": [],
   "source": [
    "final.id_1 = dataset1_match\n",
    "final.id_2 = dataset2_match"
   ]
  },
  {
   "cell_type": "markdown",
   "id": "b5868a38",
   "metadata": {},
   "source": [
    "# Final Output"
   ]
  },
  {
   "cell_type": "code",
   "execution_count": 60,
   "id": "32da6c37",
   "metadata": {},
   "outputs": [
    {
     "data": {
      "text/html": [
       "<div>\n",
       "<style scoped>\n",
       "    .dataframe tbody tr th:only-of-type {\n",
       "        vertical-align: middle;\n",
       "    }\n",
       "\n",
       "    .dataframe tbody tr th {\n",
       "        vertical-align: top;\n",
       "    }\n",
       "\n",
       "    .dataframe thead th {\n",
       "        text-align: right;\n",
       "    }\n",
       "</style>\n",
       "<table border=\"1\" class=\"dataframe\">\n",
       "  <thead>\n",
       "    <tr style=\"text-align: right;\">\n",
       "      <th></th>\n",
       "      <th>id_main</th>\n",
       "      <th>group</th>\n",
       "      <th>maker_brand</th>\n",
       "      <th>Model</th>\n",
       "      <th>id_1</th>\n",
       "      <th>id_2</th>\n",
       "    </tr>\n",
       "  </thead>\n",
       "  <tbody>\n",
       "    <tr>\n",
       "      <th>0</th>\n",
       "      <td>1</td>\n",
       "      <td>Small and Medium OEM</td>\n",
       "      <td>Aiways</td>\n",
       "      <td>U5</td>\n",
       "      <td>17</td>\n",
       "      <td>370</td>\n",
       "    </tr>\n",
       "    <tr>\n",
       "      <th>1</th>\n",
       "      <td>2</td>\n",
       "      <td>Anhui Jianghuai Automotive Group</td>\n",
       "      <td>Anhui Jianghuai Automobile (JAC)</td>\n",
       "      <td>iEV7S</td>\n",
       "      <td>37</td>\n",
       "      <td>338</td>\n",
       "    </tr>\n",
       "    <tr>\n",
       "      <th>3</th>\n",
       "      <td>4</td>\n",
       "      <td>Anhui Jianghuai Automotive Group</td>\n",
       "      <td>Anhui Jianghuai Automobile (JAC)</td>\n",
       "      <td>JAC IEVS4</td>\n",
       "      <td>37</td>\n",
       "      <td>374</td>\n",
       "    </tr>\n",
       "    <tr>\n",
       "      <th>4</th>\n",
       "      <td>5</td>\n",
       "      <td>Anhui Jianghuai Automotive Group</td>\n",
       "      <td>Anhui Jianghuai Automobile (JAC)</td>\n",
       "      <td>iEV6E</td>\n",
       "      <td>37</td>\n",
       "      <td>171</td>\n",
       "    </tr>\n",
       "    <tr>\n",
       "      <th>5</th>\n",
       "      <td>6</td>\n",
       "      <td>VW Group</td>\n",
       "      <td>Audi</td>\n",
       "      <td>Audi e-tron GT</td>\n",
       "      <td>2</td>\n",
       "      <td>577</td>\n",
       "    </tr>\n",
       "    <tr>\n",
       "      <th>...</th>\n",
       "      <td>...</td>\n",
       "      <td>...</td>\n",
       "      <td>...</td>\n",
       "      <td>...</td>\n",
       "      <td>...</td>\n",
       "      <td>...</td>\n",
       "    </tr>\n",
       "    <tr>\n",
       "      <th>132</th>\n",
       "      <td>133</td>\n",
       "      <td>VW Group</td>\n",
       "      <td>VW</td>\n",
       "      <td>Caddy</td>\n",
       "      <td>15</td>\n",
       "      <td>553</td>\n",
       "    </tr>\n",
       "    <tr>\n",
       "      <th>133</th>\n",
       "      <td>134</td>\n",
       "      <td>VW Group</td>\n",
       "      <td>VW</td>\n",
       "      <td>VW Transporter</td>\n",
       "      <td>37</td>\n",
       "      <td>598</td>\n",
       "    </tr>\n",
       "    <tr>\n",
       "      <th>134</th>\n",
       "      <td>135</td>\n",
       "      <td>VW Group</td>\n",
       "      <td>VW</td>\n",
       "      <td>Crafter</td>\n",
       "      <td>37</td>\n",
       "      <td>573</td>\n",
       "    </tr>\n",
       "    <tr>\n",
       "      <th>135</th>\n",
       "      <td>136</td>\n",
       "      <td>Haima Automobile Group</td>\n",
       "      <td>XPeng</td>\n",
       "      <td>XPeng G3</td>\n",
       "      <td>37</td>\n",
       "      <td>171</td>\n",
       "    </tr>\n",
       "    <tr>\n",
       "      <th>136</th>\n",
       "      <td>137</td>\n",
       "      <td>Geely Holding Group</td>\n",
       "      <td>ZD</td>\n",
       "      <td>D2</td>\n",
       "      <td>74</td>\n",
       "      <td>136</td>\n",
       "    </tr>\n",
       "  </tbody>\n",
       "</table>\n",
       "<p>131 rows × 6 columns</p>\n",
       "</div>"
      ],
      "text/plain": [
       "     id_main                             group  \\\n",
       "0          1              Small and Medium OEM   \n",
       "1          2  Anhui Jianghuai Automotive Group   \n",
       "3          4  Anhui Jianghuai Automotive Group   \n",
       "4          5  Anhui Jianghuai Automotive Group   \n",
       "5          6                          VW Group   \n",
       "..       ...                               ...   \n",
       "132      133                          VW Group   \n",
       "133      134                          VW Group   \n",
       "134      135                          VW Group   \n",
       "135      136            Haima Automobile Group   \n",
       "136      137               Geely Holding Group   \n",
       "\n",
       "                          maker_brand           Model  id_1  id_2  \n",
       "0                              Aiways              U5    17   370  \n",
       "1    Anhui Jianghuai Automobile (JAC)           iEV7S    37   338  \n",
       "3    Anhui Jianghuai Automobile (JAC)       JAC IEVS4    37   374  \n",
       "4    Anhui Jianghuai Automobile (JAC)           iEV6E    37   171  \n",
       "5                                Audi  Audi e-tron GT     2   577  \n",
       "..                                ...             ...   ...   ...  \n",
       "132                                VW           Caddy    15   553  \n",
       "133                                VW  VW Transporter    37   598  \n",
       "134                                VW         Crafter    37   573  \n",
       "135                             XPeng        XPeng G3    37   171  \n",
       "136                                ZD              D2    74   136  \n",
       "\n",
       "[131 rows x 6 columns]"
      ]
     },
     "execution_count": 60,
     "metadata": {},
     "output_type": "execute_result"
    }
   ],
   "source": [
    "final"
   ]
  },
  {
   "cell_type": "markdown",
   "id": "74435b04",
   "metadata": {},
   "source": [
    "# Saving Final Results to Excel File"
   ]
  },
  {
   "cell_type": "code",
   "execution_count": 61,
   "id": "8feb1775",
   "metadata": {},
   "outputs": [],
   "source": [
    "final.to_excel(\"final_results.xlsx\")"
   ]
  },
  {
   "cell_type": "markdown",
   "id": "c0ce5dc7",
   "metadata": {},
   "source": [
    "# Best of Luck"
   ]
  }
 ],
 "metadata": {
  "kernelspec": {
   "display_name": "Python 3 (ipykernel)",
   "language": "python",
   "name": "python3"
  },
  "language_info": {
   "codemirror_mode": {
    "name": "ipython",
    "version": 3
   },
   "file_extension": ".py",
   "mimetype": "text/x-python",
   "name": "python",
   "nbconvert_exporter": "python",
   "pygments_lexer": "ipython3",
   "version": "3.10.5"
  }
 },
 "nbformat": 4,
 "nbformat_minor": 5
}
